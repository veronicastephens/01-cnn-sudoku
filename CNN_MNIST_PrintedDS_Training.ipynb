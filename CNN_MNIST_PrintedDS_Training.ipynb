{
 "cells": [
  {
   "cell_type": "code",
   "execution_count": 1,
   "metadata": {},
   "outputs": [
    {
     "name": "stderr",
     "output_type": "stream",
     "text": [
      "/Users/DJ/anaconda3/lib/python3.6/site-packages/h5py/__init__.py:36: FutureWarning: Conversion of the second argument of issubdtype from `float` to `np.floating` is deprecated. In future, it will be treated as `np.float64 == np.dtype(float).type`.\n",
      "  from ._conv import register_converters as _register_converters\n"
     ]
    },
    {
     "name": "stdout",
     "output_type": "stream",
     "text": [
      "TensorFlow version: 1.11.0\n",
      "Keras version: 2.1.6-tf\n"
     ]
    }
   ],
   "source": [
    "import os\n",
    "import numpy as np\n",
    "import pandas as pd\n",
    "import tensorflow as tf\n",
    "import matplotlib.pyplot as plt\n",
    "\n",
    "from tensorflow import keras\n",
    "from sklearn.model_selection import train_test_split\n",
    "from sklearn.metrics import classification_report\n",
    "from tensorflow.contrib.tensorboard.plugins import projector\n",
    "from tensorflow.keras.layers import Conv2D, MaxPooling2D, Dropout, Flatten, Dense, BatchNormalization\n",
    "\n",
    "print(\"TensorFlow version:\", tf.__version__)\n",
    "print(\"Keras version:\", keras.__version__)\n",
    "%matplotlib inline"
   ]
  },
  {
   "cell_type": "markdown",
   "metadata": {},
   "source": [
    "## Define Hyper parameters"
   ]
  },
  {
   "cell_type": "code",
   "execution_count": 2,
   "metadata": {},
   "outputs": [],
   "source": [
    "learning_rate = 0.01\n",
    "epochs_value = 5\n",
    "batch_size_value = 128"
   ]
  },
  {
   "cell_type": "code",
   "execution_count": 3,
   "metadata": {},
   "outputs": [],
   "source": [
    "def plot_images(images, cls_true, cls_pred=None):\n",
    "    \n",
    "    fig, axes = plt.subplots(1, 5)\n",
    "    fig.subplots_adjust(hspace=1, wspace=0.2)\n",
    "\n",
    "    for i, ax in enumerate(axes.flat):\n",
    "        # Plot image.\n",
    "        ax.imshow(images[i].reshape(28,28), cmap='binary')\n",
    "\n",
    "        # Show true and predicted classes.\n",
    "        if cls_pred is None:\n",
    "            xlabel = \"Actual: {0}\".format(cls_true[i])\n",
    "        else:\n",
    "            xlabel = \"Actual: {0},\\n Prediction: {1}\".format(cls_true[i], cls_pred[i])\n",
    "\n",
    "        ax.set_xlabel(xlabel)\n",
    "        \n",
    "        # Remove ticks from the plot.\n",
    "        ax.set_xticks([])\n",
    "        ax.set_yticks([])\n",
    "        \n",
    "    plt.show()"
   ]
  },
  {
   "cell_type": "markdown",
   "metadata": {},
   "source": [
    "## Load Data"
   ]
  },
  {
   "cell_type": "code",
   "execution_count": 5,
   "metadata": {},
   "outputs": [
    {
     "name": "stdout",
     "output_type": "stream",
     "text": [
      "Initial Training Dataset:  (60000,) (60000, 28, 28)\n",
      "Initial Testing Dataset:  (10000,) (10000, 28, 28)\n"
     ]
    }
   ],
   "source": [
    "#This step uses MNIST.  Next step uses the user created images.\n",
    "#(nx_train, y_train), (nx_test, y_test) = tf.keras.datasets.mnist.load_data()\n",
    "#print(\"Initial Training Dataset: \", y_train.shape, nx_train.shape)\n",
    "#print(\"Initial Testing Dataset: \", y_test.shape, nx_test.shape)"
   ]
  },
  {
   "cell_type": "code",
   "execution_count": 6,
   "metadata": {},
   "outputs": [
    {
     "name": "stdout",
     "output_type": "stream",
     "text": [
      "Initial Training Dataset:  (26460,) (26460, 28, 28)\n",
      "Initial Testing Dataset:  (11340,) (11340, 28, 28)\n"
     ]
    }
   ],
   "source": [
    "#read image and label arrays\n",
    "from sklearn.model_selection import train_test_split\n",
    "\n",
    "X = np.load('images.npy')\n",
    "y = np.load('labels.npy')\n",
    "\n",
    "#split data\n",
    "nx_train, nx_test, y_train, y_test = train_test_split(X, y, test_size=0.3, random_state=42)\n",
    "print(\"Initial Training Dataset: \", y_train.shape, nx_train.shape)\n",
    "print(\"Initial Testing Dataset: \", y_test.shape, nx_test.shape)"
   ]
  },
  {
   "cell_type": "markdown",
   "metadata": {},
   "source": [
    "## Input Data is not normalized"
   ]
  },
  {
   "cell_type": "code",
   "execution_count": 22,
   "metadata": {},
   "outputs": [],
   "source": [
    "#print(nx_train[0])"
   ]
  },
  {
   "cell_type": "code",
   "execution_count": 7,
   "metadata": {},
   "outputs": [
    {
     "data": {
      "image/png": "[encoded data removed]",
      "text/plain": [
       "<matplotlib.figure.Figure at 0x1c271eba20>"
      ]
     },
     "metadata": {},
     "output_type": "display_data"
    }
   ],
   "source": [
    "plot_images(nx_train[0:5], y_train[0:5], cls_pred=None)"
   ]
  },
  {
   "cell_type": "markdown",
   "metadata": {},
   "source": [
    "## Normalize Input Dataset"
   ]
  },
  {
   "cell_type": "code",
   "execution_count": 8,
   "metadata": {},
   "outputs": [],
   "source": [
    "x_train = nx_train/255\n",
    "x_test = nx_test/255"
   ]
  },
  {
   "cell_type": "code",
   "execution_count": 9,
   "metadata": {},
   "outputs": [],
   "source": [
    "# print(x_train[0])"
   ]
  },
  {
   "cell_type": "code",
   "execution_count": 10,
   "metadata": {},
   "outputs": [
    {
     "data": {
      "image/png": "[encoded data removed]",
      "text/plain": [
       "<matplotlib.figure.Figure at 0x1c2a06db38>"
      ]
     },
     "metadata": {},
     "output_type": "display_data"
    }
   ],
   "source": [
    "plot_images(x_train[0:5], y_train[0:5], cls_pred=None)"
   ]
  },
  {
   "cell_type": "markdown",
   "metadata": {},
   "source": [
    "## One hot coding\n",
    "#### 0 = [1 0 0 0 0 0 0 0 0 0]\n",
    "#### 1 = [0 1 0 0 0 0 0 0 0 0]\n",
    "#### ...\n",
    "#### 9 = [0 0 0 0 0 0 0 0 0 1]"
   ]
  },
  {
   "cell_type": "code",
   "execution_count": 11,
   "metadata": {},
   "outputs": [],
   "source": [
    "y_train = keras.utils.to_categorical(y_train, 10)\n",
    "y_test = keras.utils.to_categorical(y_test, 10)"
   ]
  },
  {
   "cell_type": "markdown",
   "metadata": {},
   "source": [
    "## Build CNN using Keras\n",
    "#### Normalize the activations of the previous layer at each batch, i.e. applies a transformation that maintains the mean activation close to 0 and the activation standard deviation close to 1."
   ]
  },
  {
   "cell_type": "code",
   "execution_count": 12,
   "metadata": {},
   "outputs": [
    {
     "name": "stdout",
     "output_type": "stream",
     "text": [
      "_________________________________________________________________\n",
      "Layer (type)                 Output Shape              Param #   \n",
      "=================================================================\n",
      "conv2d (Conv2D)              (None, 28, 28, 64)        640       \n",
      "_________________________________________________________________\n",
      "max_pooling2d (MaxPooling2D) (None, 14, 14, 64)        0         \n",
      "_________________________________________________________________\n",
      "conv2d_1 (Conv2D)            (None, 14, 14, 32)        18464     \n",
      "_________________________________________________________________\n",
      "max_pooling2d_1 (MaxPooling2 (None, 7, 7, 32)          0         \n",
      "_________________________________________________________________\n",
      "flatten (Flatten)            (None, 1568)              0         \n",
      "_________________________________________________________________\n",
      "dense (Dense)                (None, 256)               401664    \n",
      "_________________________________________________________________\n",
      "dense_1 (Dense)              (None, 10)                2570      \n",
      "=================================================================\n",
      "Total params: 423,338\n",
      "Trainable params: 423,338\n",
      "Non-trainable params: 0\n",
      "_________________________________________________________________\n"
     ]
    }
   ],
   "source": [
    "model = tf.keras.Sequential()\n",
    "model.add(Conv2D(filters=64, kernel_size=3, strides=1, padding='same', activation='relu', input_shape=(28,28,1)))\n",
    "#model.add(BatchNormalization())\n",
    "model.add(MaxPooling2D(pool_size=2))\n",
    "#model.add(Dropout(0.3))\n",
    "model.add(Conv2D(filters=32, kernel_size=3, strides=1, padding='same', activation='relu'))\n",
    "model.add(MaxPooling2D(pool_size=2))\n",
    "#model.add(Dropout(0.3))\n",
    "model.add(Flatten())\n",
    "model.add(Dense(256, activation='relu'))\n",
    "#model.add(Dropout(0.5))\n",
    "model.add(Dense(10, activation='softmax'))\n",
    "# Take a look at the model summary\n",
    "model.summary()"
   ]
  },
  {
   "cell_type": "code",
   "execution_count": 13,
   "metadata": {},
   "outputs": [
    {
     "name": "stdout",
     "output_type": "stream",
     "text": [
      "(256, 10)\n"
     ]
    }
   ],
   "source": [
    "layer_input = model.layers[6]\n",
    "print(layer_input.get_weights()[0].shape)"
   ]
  },
  {
   "cell_type": "code",
   "execution_count": 13,
   "metadata": {},
   "outputs": [],
   "source": [
    "#model.save_weights('sim_score_weights.h5', overwrite=True)"
   ]
  },
  {
   "cell_type": "markdown",
   "metadata": {},
   "source": [
    "## Using Optimization Algorithm for Backpropagation"
   ]
  },
  {
   "cell_type": "code",
   "execution_count": 14,
   "metadata": {},
   "outputs": [],
   "source": [
    "model.compile(loss='categorical_crossentropy',\n",
    "             optimizer='adam',\n",
    "             metrics=['accuracy'])"
   ]
  },
  {
   "cell_type": "code",
   "execution_count": 15,
   "metadata": {},
   "outputs": [
    {
     "name": "stdout",
     "output_type": "stream",
     "text": [
      "(26460, 28, 28)\n",
      "(26460, 28, 28, 1)\n"
     ]
    }
   ],
   "source": [
    "print (x_train.shape)\n",
    "x_train = x_train[..., None]\n",
    "x_test = x_test[..., np.newaxis]\n",
    "print (x_train.shape)"
   ]
  },
  {
   "cell_type": "markdown",
   "metadata": {},
   "source": [
    "## Training Phase"
   ]
  },
  {
   "cell_type": "code",
   "execution_count": 16,
   "metadata": {},
   "outputs": [
    {
     "name": "stdout",
     "output_type": "stream",
     "text": [
      "Train on 26460 samples, validate on 11340 samples\n",
      "Epoch 1/5\n",
      "26460/26460 [==============================] - 42s 2ms/step - loss: 0.5815 - acc: 0.8180 - val_loss: 0.0754 - val_acc: 0.9809\n",
      "Epoch 2/5\n",
      "26460/26460 [==============================] - 42s 2ms/step - loss: 0.0424 - acc: 0.9891 - val_loss: 0.0294 - val_acc: 0.9926\n",
      "Epoch 3/5\n",
      "26460/26460 [==============================] - 43s 2ms/step - loss: 0.0154 - acc: 0.9968 - val_loss: 0.0192 - val_acc: 0.9950\n",
      "Epoch 4/5\n",
      "26460/26460 [==============================] - 40s 2ms/step - loss: 0.0085 - acc: 0.9980 - val_loss: 0.0069 - val_acc: 0.9983\n",
      "Epoch 5/5\n",
      "26460/26460 [==============================] - 40s 2ms/step - loss: 0.0042 - acc: 0.9993 - val_loss: 0.0139 - val_acc: 0.9951\n"
     ]
    }
   ],
   "source": [
    "training_model = model.fit(x_train, y_train, \n",
    "                           batch_size=batch_size_value, \n",
    "                           epochs=epochs_value,\n",
    "                           validation_data=(x_test, y_test))"
   ]
  },
  {
   "cell_type": "code",
   "execution_count": 17,
   "metadata": {},
   "outputs": [
    {
     "data": {
      "text/plain": [
       "([0.817989417989418,\n",
       "  0.9891156462675139,\n",
       "  0.9968253968253968,\n",
       "  0.9979591836734694,\n",
       "  0.9992819349962208],\n",
       " [0.9808641974677905,\n",
       "  0.9925925925925926,\n",
       "  0.994973544973545,\n",
       "  0.9983245149911817,\n",
       "  0.9951499118165785])"
      ]
     },
     "execution_count": 17,
     "metadata": {},
     "output_type": "execute_result"
    }
   ],
   "source": [
    "training_model.history['acc'], training_model.history['val_acc']"
   ]
  },
  {
   "cell_type": "code",
   "execution_count": 18,
   "metadata": {},
   "outputs": [],
   "source": [
    "#model.save('model.keras', overwrite=True)\n",
    "model.save('CNN_999.keras', overwrite=True)"
   ]
  },
  {
   "cell_type": "markdown",
   "metadata": {},
   "source": [
    "## Evaluation Phase"
   ]
  },
  {
   "cell_type": "code",
   "execution_count": 19,
   "metadata": {},
   "outputs": [
    {
     "name": "stdout",
     "output_type": "stream",
     "text": [
      "11340/11340 [==============================] - 4s 381us/step\n"
     ]
    }
   ],
   "source": [
    "result = model.evaluate(x_test, y_test)"
   ]
  },
  {
   "cell_type": "code",
   "execution_count": 20,
   "metadata": {},
   "outputs": [
    {
     "name": "stdout",
     "output_type": "stream",
     "text": [
      "loss 0.013862203197665447\n",
      "acc 0.9951499118165785\n"
     ]
    }
   ],
   "source": [
    "for name, value in zip(model.metrics_names, result):\n",
    "    print (name, value)"
   ]
  },
  {
   "cell_type": "code",
   "execution_count": 21,
   "metadata": {},
   "outputs": [
    {
     "data": {
      "image/png": "[encoded data removed]",
      "text/plain": [
       "<matplotlib.figure.Figure at 0x1c3f761978>"
      ]
     },
     "metadata": {},
     "output_type": "display_data"
    }
   ],
   "source": [
    "plt.plot(range(1,epochs_value+1), training_model.history['acc'], 'r+', label='training acc')\n",
    "plt.plot(range(1,epochs_value+1), training_model.history['val_acc'], 'bo', label='evaluation acc')\n",
    "plt.xlabel('Epochs\\n\\n Accuracy: '+str(value))\n",
    "plt.ylabel('Loss')\n",
    "plt.legend()\n",
    "plt.show()"
   ]
  },
  {
   "cell_type": "markdown",
   "metadata": {},
   "source": [
    "## Predication Phase"
   ]
  },
  {
   "cell_type": "code",
   "execution_count": 22,
   "metadata": {},
   "outputs": [
    {
     "data": {
      "image/png": "[encoded data removed]",
      "text/plain": [
       "<matplotlib.figure.Figure at 0x1c3f7612e8>"
      ]
     },
     "metadata": {},
     "output_type": "display_data"
    }
   ],
   "source": [
    "R_img = range (60,65)\n",
    "plot_images(x_test[R_img], np.argmax(y_test[R_img],axis=1), np.argmax(model.predict(x_test[R_img]), axis=1))"
   ]
  },
  {
   "cell_type": "code",
   "execution_count": 23,
   "metadata": {},
   "outputs": [],
   "source": [
    "def plot_example_errors(cls_pred):\n",
    "    # cls_pred is an array of the predicted class-number for\n",
    "    # all images in the test-set.\n",
    "\n",
    "    # Boolean array whether the predicted class is incorrect.\n",
    "    incorrect = (cls_pred != data.y_test_cls)\n",
    "\n",
    "    # Get the images from the test-set that have been\n",
    "    # incorrectly classified.\n",
    "    images = data.x_test[incorrect]\n",
    "    \n",
    "    # Get the predicted classes for those images.\n",
    "    cls_pred = cls_pred[incorrect]\n",
    "\n",
    "    # Get the true classes for those images.\n",
    "    cls_true = data.y_test_cls[incorrect]\n",
    "    \n",
    "    # Plot the first 9 images.\n",
    "    plot_images(images=images[0:9],\n",
    "                cls_true=cls_true[0:9],\n",
    "                cls_pred=cls_pred[0:9])"
   ]
  },
  {
   "cell_type": "code",
   "execution_count": 91,
   "metadata": {},
   "outputs": [],
   "source": [
    "y_prediction = np.argmax(model.predict(x_test), axis=1)"
   ]
  },
  {
   "cell_type": "code",
   "execution_count": 92,
   "metadata": {},
   "outputs": [
    {
     "data": {
      "text/plain": [
       "10000"
      ]
     },
     "execution_count": 92,
     "metadata": {},
     "output_type": "execute_result"
    }
   ],
   "source": [
    "actual= np.argmax(y_test, axis=1)\n",
    "len(actual)"
   ]
  },
  {
   "cell_type": "code",
   "execution_count": 93,
   "metadata": {},
   "outputs": [
    {
     "data": {
      "text/plain": [
       "106"
      ]
     },
     "execution_count": 93,
     "metadata": {},
     "output_type": "execute_result"
    }
   ],
   "source": [
    "misclassification=[i for i in range (10000) if actual[i]!=y_prediction[i]]\n",
    "len(misclassification)"
   ]
  },
  {
   "cell_type": "code",
   "execution_count": 94,
   "metadata": {},
   "outputs": [
    {
     "name": "stdout",
     "output_type": "stream",
     "text": [
      "106\n"
     ]
    },
    {
     "data": {
      "text/plain": [
       "[18,\n",
       " 247,\n",
       " 321,\n",
       " 326,\n",
       " 582,\n",
       " 646,\n",
       " 659,\n",
       " 684,\n",
       " 720,\n",
       " 740,\n",
       " 846,\n",
       " 924,\n",
       " 947,\n",
       " 1014,\n",
       " 1039,\n",
       " 1112,\n",
       " 1226,\n",
       " 1232,\n",
       " 1242,\n",
       " 1260,\n",
       " 1378,\n",
       " 1393,\n",
       " 1414,\n",
       " 1459,\n",
       " 1527,\n",
       " 1709,\n",
       " 1737,\n",
       " 1790,\n",
       " 1878,\n",
       " 1901,\n",
       " 1903,\n",
       " 2035,\n",
       " 2070,\n",
       " 2098,\n",
       " 2118,\n",
       " 2129,\n",
       " 2130,\n",
       " 2182,\n",
       " 2293,\n",
       " 2369,\n",
       " 2414,\n",
       " 2447,\n",
       " 2462,\n",
       " 2488,\n",
       " 2597,\n",
       " 2654,\n",
       " 2896,\n",
       " 2921,\n",
       " 2995,\n",
       " 3073,\n",
       " 3100,\n",
       " 3225,\n",
       " 3384,\n",
       " 3422,\n",
       " 3457,\n",
       " 3520,\n",
       " 3558,\n",
       " 3601,\n",
       " 3662,\n",
       " 3702,\n",
       " 3727,\n",
       " 3778,\n",
       " 3796,\n",
       " 3808,\n",
       " 3853,\n",
       " 4176,\n",
       " 4205,\n",
       " 4238,\n",
       " 4248,\n",
       " 4269,\n",
       " 4497,\n",
       " 4507,\n",
       " 4571,\n",
       " 4639,\n",
       " 4740,\n",
       " 4761,\n",
       " 4763,\n",
       " 4783,\n",
       " 5201,\n",
       " 5331,\n",
       " 5937,\n",
       " 5955,\n",
       " 5981,\n",
       " 5997,\n",
       " 6555,\n",
       " 6576,\n",
       " 6597,\n",
       " 6625,\n",
       " 6755,\n",
       " 6783,\n",
       " 8059,\n",
       " 8094,\n",
       " 8128,\n",
       " 8325,\n",
       " 9015,\n",
       " 9540,\n",
       " 9625,\n",
       " 9642,\n",
       " 9664,\n",
       " 9692,\n",
       " 9729,\n",
       " 9749,\n",
       " 9770,\n",
       " 9792,\n",
       " 9839,\n",
       " 9982]"
      ]
     },
     "execution_count": 94,
     "metadata": {},
     "output_type": "execute_result"
    }
   ],
   "source": [
    "print (len(misclassification))\n",
    "misclassification"
   ]
  },
  {
   "cell_type": "code",
   "execution_count": 96,
   "metadata": {},
   "outputs": [
    {
     "data": {
      "image/png": "[encoded data removed]",
      "text/plain": [
       "<Figure size 432x288 with 1 Axes>"
      ]
     },
     "metadata": {},
     "output_type": "display_data"
    },
    {
     "name": "stdout",
     "output_type": "stream",
     "text": [
      "actual:  5 predication:  9\n"
     ]
    }
   ],
   "source": [
    "plt.imshow(nx_test[5997].reshape(28,28), cmap='binary')\n",
    "plt.show()\n",
    "print(\"actual: \",actual[5997],\"predication: \", y_prediction[5997])"
   ]
  },
  {
   "cell_type": "code",
   "execution_count": null,
   "metadata": {},
   "outputs": [],
   "source": []
  }
 ],
 "metadata": {
  "kernelspec": {
   "display_name": "Python 3",
   "language": "python",
   "name": "python3"
  },
  "language_info": {
   "codemirror_mode": {
    "name": "ipython",
    "version": 3
   },
   "file_extension": ".py",
   "mimetype": "text/x-python",
   "name": "python",
   "nbconvert_exporter": "python",
   "pygments_lexer": "ipython3",
   "version": "3.6.7"
  }
 },
 "nbformat": 4,
 "nbformat_minor": 2
}
